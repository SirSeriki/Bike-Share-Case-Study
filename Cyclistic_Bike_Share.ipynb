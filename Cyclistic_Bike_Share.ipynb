{
  "nbformat": 4,
  "nbformat_minor": 0,
  "metadata": {
    "colab": {
      "name": "Cyclistic Bike Share.ipynb",
      "provenance": [],
      "collapsed_sections": [],
      "authorship_tag": "ABX9TyMUS0pqZIwSQOgMRl8L8wSd",
      "include_colab_link": true
    },
    "kernelspec": {
      "name": "python3",
      "display_name": "Python 3"
    },
    "language_info": {
      "name": "python"
    }
  },
  "cells": [
    {
      "cell_type": "markdown",
      "metadata": {
        "id": "view-in-github",
        "colab_type": "text"
      },
      "source": [
        "<a href=\"https://colab.research.google.com/github/SirSeriki/Bike-Share-Case-Study/blob/main/Cyclistic_Bike_Share.ipynb\" target=\"_parent\"><img src=\"https://colab.research.google.com/assets/colab-badge.svg\" alt=\"Open In Colab\"/></a>"
      ]
    },
    {
      "cell_type": "markdown",
      "metadata": {
        "id": "XVopaoGrGfJ3"
      },
      "source": [
        ""
      ]
    },
    {
      "cell_type": "markdown",
      "metadata": {
        "id": "WBbNAJ-4PxKn"
      },
      "source": [
        "**Installing all necessary packages**\n"
      ]
    },
    {
      "cell_type": "code",
      "metadata": {
        "id": "-A9kASxCQBPV"
      },
      "source": [
        "%load_ext rpy2.ipython"
      ],
      "execution_count": 4,
      "outputs": []
    },
    {
      "cell_type": "code",
      "metadata": {
        "colab": {
          "base_uri": "https://localhost:8080/"
        },
        "id": "oWI_YarTUsH7",
        "outputId": "7cea202e-392a-47bb-e08c-88ae79e05425"
      },
      "source": [
        "%%R\n",
        "install.packages(\"plyr\")\n",
        "install.packages(\"tidyverse\")\n",
        "install.packages(\"here\")\n",
        "install.packages(\"skimr\")\n",
        "install.packages(\"janitor\")\n",
        "install.packages(\"ggplot2\")\n"
      ],
      "execution_count": 5,
      "outputs": [
        {
          "output_type": "stream",
          "text": [
            "R[write to console]: Installing package into ‘/usr/local/lib/R/site-library’\n",
            "(as ‘lib’ is unspecified)\n",
            "\n",
            "R[write to console]: trying URL 'https://cran.rstudio.com/src/contrib/plyr_1.8.6.tar.gz'\n",
            "\n",
            "R[write to console]: Content type 'application/x-gzip'\n",
            "R[write to console]:  length 401191 bytes (391 KB)\n",
            "\n",
            "R[write to console]: =\n",
            "R[write to console]: =\n",
            "R[write to console]: =\n",
            "R[write to console]: =\n",
            "R[write to console]: =\n",
            "R[write to console]: =\n",
            "R[write to console]: =\n",
            "R[write to console]: =\n",
            "R[write to console]: =\n",
            "R[write to console]: =\n",
            "R[write to console]: =\n",
            "R[write to console]: =\n",
            "R[write to console]: =\n",
            "R[write to console]: =\n",
            "R[write to console]: =\n",
            "R[write to console]: =\n",
            "R[write to console]: =\n",
            "R[write to console]: =\n",
            "R[write to console]: =\n",
            "R[write to console]: =\n",
            "R[write to console]: =\n",
            "R[write to console]: =\n",
            "R[write to console]: =\n",
            "R[write to console]: =\n",
            "R[write to console]: =\n",
            "R[write to console]: =\n",
            "R[write to console]: =\n",
            "R[write to console]: =\n",
            "R[write to console]: =\n",
            "R[write to console]: =\n",
            "R[write to console]: =\n",
            "R[write to console]: =\n",
            "R[write to console]: =\n",
            "R[write to console]: =\n",
            "R[write to console]: =\n",
            "R[write to console]: =\n",
            "R[write to console]: =\n",
            "R[write to console]: =\n",
            "R[write to console]: =\n",
            "R[write to console]: =\n",
            "R[write to console]: =\n",
            "R[write to console]: =\n",
            "R[write to console]: =\n",
            "R[write to console]: =\n",
            "R[write to console]: =\n",
            "R[write to console]: =\n",
            "R[write to console]: =\n",
            "R[write to console]: =\n",
            "R[write to console]: =\n",
            "R[write to console]: =\n",
            "R[write to console]: \n",
            "\n",
            "R[write to console]: downloaded 391 KB\n",
            "\n",
            "\n",
            "R[write to console]: \n",
            "\n",
            "R[write to console]: \n",
            "R[write to console]: The downloaded source packages are in\n",
            "\t‘/tmp/Rtmp4HSMHP/downloaded_packages’\n",
            "R[write to console]: \n",
            "R[write to console]: \n",
            "\n",
            "R[write to console]: Installing package into ‘/usr/local/lib/R/site-library’\n",
            "(as ‘lib’ is unspecified)\n",
            "\n",
            "R[write to console]: trying URL 'https://cran.rstudio.com/src/contrib/tidyverse_1.3.1.tar.gz'\n",
            "\n",
            "R[write to console]: Content type 'application/x-gzip'\n",
            "R[write to console]:  length 702779 bytes (686 KB)\n",
            "\n",
            "R[write to console]: =\n",
            "R[write to console]: =\n",
            "R[write to console]: =\n",
            "R[write to console]: =\n",
            "R[write to console]: =\n",
            "R[write to console]: =\n",
            "R[write to console]: =\n",
            "R[write to console]: =\n",
            "R[write to console]: =\n",
            "R[write to console]: =\n",
            "R[write to console]: =\n",
            "R[write to console]: =\n",
            "R[write to console]: =\n",
            "R[write to console]: =\n",
            "R[write to console]: =\n",
            "R[write to console]: =\n",
            "R[write to console]: =\n",
            "R[write to console]: =\n",
            "R[write to console]: =\n",
            "R[write to console]: =\n",
            "R[write to console]: =\n",
            "R[write to console]: =\n",
            "R[write to console]: =\n",
            "R[write to console]: =\n",
            "R[write to console]: =\n",
            "R[write to console]: =\n",
            "R[write to console]: =\n",
            "R[write to console]: =\n",
            "R[write to console]: =\n",
            "R[write to console]: =\n",
            "R[write to console]: =\n",
            "R[write to console]: =\n",
            "R[write to console]: =\n",
            "R[write to console]: =\n",
            "R[write to console]: =\n",
            "R[write to console]: =\n",
            "R[write to console]: =\n",
            "R[write to console]: =\n",
            "R[write to console]: =\n",
            "R[write to console]: =\n",
            "R[write to console]: =\n",
            "R[write to console]: =\n",
            "R[write to console]: =\n",
            "R[write to console]: =\n",
            "R[write to console]: =\n",
            "R[write to console]: =\n",
            "R[write to console]: =\n",
            "R[write to console]: =\n",
            "R[write to console]: =\n",
            "R[write to console]: =\n",
            "R[write to console]: \n",
            "\n",
            "R[write to console]: downloaded 686 KB\n",
            "\n",
            "\n",
            "R[write to console]: \n",
            "\n",
            "R[write to console]: \n",
            "R[write to console]: The downloaded source packages are in\n",
            "\t‘/tmp/Rtmp4HSMHP/downloaded_packages’\n",
            "R[write to console]: \n",
            "R[write to console]: \n",
            "\n",
            "R[write to console]: Installing package into ‘/usr/local/lib/R/site-library’\n",
            "(as ‘lib’ is unspecified)\n",
            "\n",
            "R[write to console]: trying URL 'https://cran.rstudio.com/src/contrib/here_1.0.1.tar.gz'\n",
            "\n",
            "R[write to console]: Content type 'application/x-gzip'\n",
            "R[write to console]:  length 32954 bytes (32 KB)\n",
            "\n",
            "R[write to console]: =\n",
            "R[write to console]: =\n",
            "R[write to console]: =\n",
            "R[write to console]: =\n",
            "R[write to console]: =\n",
            "R[write to console]: =\n",
            "R[write to console]: =\n",
            "R[write to console]: =\n",
            "R[write to console]: =\n",
            "R[write to console]: =\n",
            "R[write to console]: =\n",
            "R[write to console]: =\n",
            "R[write to console]: =\n",
            "R[write to console]: =\n",
            "R[write to console]: =\n",
            "R[write to console]: =\n",
            "R[write to console]: =\n",
            "R[write to console]: =\n",
            "R[write to console]: =\n",
            "R[write to console]: =\n",
            "R[write to console]: =\n",
            "R[write to console]: =\n",
            "R[write to console]: =\n",
            "R[write to console]: =\n",
            "R[write to console]: =\n",
            "R[write to console]: =\n",
            "R[write to console]: =\n",
            "R[write to console]: =\n",
            "R[write to console]: =\n",
            "R[write to console]: =\n",
            "R[write to console]: =\n",
            "R[write to console]: =\n",
            "R[write to console]: =\n",
            "R[write to console]: =\n",
            "R[write to console]: =\n",
            "R[write to console]: =\n",
            "R[write to console]: =\n",
            "R[write to console]: =\n",
            "R[write to console]: =\n",
            "R[write to console]: =\n",
            "R[write to console]: =\n",
            "R[write to console]: =\n",
            "R[write to console]: =\n",
            "R[write to console]: =\n",
            "R[write to console]: =\n",
            "R[write to console]: =\n",
            "R[write to console]: =\n",
            "R[write to console]: =\n",
            "R[write to console]: =\n",
            "R[write to console]: =\n",
            "R[write to console]: \n",
            "\n",
            "R[write to console]: downloaded 32 KB\n",
            "\n",
            "\n",
            "R[write to console]: \n",
            "\n",
            "R[write to console]: \n",
            "R[write to console]: The downloaded source packages are in\n",
            "\t‘/tmp/Rtmp4HSMHP/downloaded_packages’\n",
            "R[write to console]: \n",
            "R[write to console]: \n",
            "\n",
            "R[write to console]: Installing package into ‘/usr/local/lib/R/site-library’\n",
            "(as ‘lib’ is unspecified)\n",
            "\n",
            "R[write to console]: trying URL 'https://cran.rstudio.com/src/contrib/skimr_2.1.3.tar.gz'\n",
            "\n",
            "R[write to console]: Content type 'application/x-gzip'\n",
            "R[write to console]:  length 1123181 bytes (1.1 MB)\n",
            "\n",
            "R[write to console]: =\n",
            "R[write to console]: =\n",
            "R[write to console]: =\n",
            "R[write to console]: =\n",
            "R[write to console]: =\n",
            "R[write to console]: =\n",
            "R[write to console]: =\n",
            "R[write to console]: =\n",
            "R[write to console]: =\n",
            "R[write to console]: =\n",
            "R[write to console]: =\n",
            "R[write to console]: =\n",
            "R[write to console]: =\n",
            "R[write to console]: =\n",
            "R[write to console]: =\n",
            "R[write to console]: =\n",
            "R[write to console]: =\n",
            "R[write to console]: =\n",
            "R[write to console]: =\n",
            "R[write to console]: =\n",
            "R[write to console]: =\n",
            "R[write to console]: =\n",
            "R[write to console]: =\n",
            "R[write to console]: =\n",
            "R[write to console]: =\n",
            "R[write to console]: =\n",
            "R[write to console]: =\n",
            "R[write to console]: =\n",
            "R[write to console]: =\n",
            "R[write to console]: =\n",
            "R[write to console]: =\n",
            "R[write to console]: =\n",
            "R[write to console]: =\n",
            "R[write to console]: =\n",
            "R[write to console]: =\n",
            "R[write to console]: =\n",
            "R[write to console]: =\n",
            "R[write to console]: =\n",
            "R[write to console]: =\n",
            "R[write to console]: =\n",
            "R[write to console]: =\n",
            "R[write to console]: =\n",
            "R[write to console]: =\n",
            "R[write to console]: =\n",
            "R[write to console]: =\n",
            "R[write to console]: =\n",
            "R[write to console]: =\n",
            "R[write to console]: =\n",
            "R[write to console]: =\n",
            "R[write to console]: =\n",
            "R[write to console]: \n",
            "\n",
            "R[write to console]: downloaded 1.1 MB\n",
            "\n",
            "\n",
            "R[write to console]: \n",
            "\n",
            "R[write to console]: \n",
            "R[write to console]: The downloaded source packages are in\n",
            "\t‘/tmp/Rtmp4HSMHP/downloaded_packages’\n",
            "R[write to console]: \n",
            "R[write to console]: \n",
            "\n",
            "R[write to console]: Installing package into ‘/usr/local/lib/R/site-library’\n",
            "(as ‘lib’ is unspecified)\n",
            "\n",
            "R[write to console]: also installing the dependency ‘snakecase’\n",
            "\n",
            "\n",
            "R[write to console]: trying URL 'https://cran.rstudio.com/src/contrib/snakecase_0.11.0.tar.gz'\n",
            "\n",
            "R[write to console]: Content type 'application/x-gzip'\n",
            "R[write to console]:  length 459702 bytes (448 KB)\n",
            "\n",
            "R[write to console]: =\n",
            "R[write to console]: =\n",
            "R[write to console]: =\n",
            "R[write to console]: =\n",
            "R[write to console]: =\n",
            "R[write to console]: =\n",
            "R[write to console]: =\n",
            "R[write to console]: =\n",
            "R[write to console]: =\n",
            "R[write to console]: =\n",
            "R[write to console]: =\n",
            "R[write to console]: =\n",
            "R[write to console]: =\n",
            "R[write to console]: =\n",
            "R[write to console]: =\n",
            "R[write to console]: =\n",
            "R[write to console]: =\n",
            "R[write to console]: =\n",
            "R[write to console]: =\n",
            "R[write to console]: =\n",
            "R[write to console]: =\n",
            "R[write to console]: =\n",
            "R[write to console]: =\n",
            "R[write to console]: =\n",
            "R[write to console]: =\n",
            "R[write to console]: =\n",
            "R[write to console]: =\n",
            "R[write to console]: =\n",
            "R[write to console]: =\n",
            "R[write to console]: =\n",
            "R[write to console]: =\n",
            "R[write to console]: =\n",
            "R[write to console]: =\n",
            "R[write to console]: =\n",
            "R[write to console]: =\n",
            "R[write to console]: =\n",
            "R[write to console]: =\n",
            "R[write to console]: =\n",
            "R[write to console]: =\n",
            "R[write to console]: =\n",
            "R[write to console]: =\n",
            "R[write to console]: =\n",
            "R[write to console]: =\n",
            "R[write to console]: =\n",
            "R[write to console]: =\n",
            "R[write to console]: =\n",
            "R[write to console]: =\n",
            "R[write to console]: =\n",
            "R[write to console]: =\n",
            "R[write to console]: =\n",
            "R[write to console]: \n",
            "\n",
            "R[write to console]: downloaded 448 KB\n",
            "\n",
            "\n",
            "R[write to console]: trying URL 'https://cran.rstudio.com/src/contrib/janitor_2.1.0.tar.gz'\n",
            "\n",
            "R[write to console]: Content type 'application/x-gzip'\n",
            "R[write to console]:  length 215365 bytes (210 KB)\n",
            "\n",
            "R[write to console]: =\n",
            "R[write to console]: =\n",
            "R[write to console]: =\n",
            "R[write to console]: =\n",
            "R[write to console]: =\n",
            "R[write to console]: =\n",
            "R[write to console]: =\n",
            "R[write to console]: =\n",
            "R[write to console]: =\n",
            "R[write to console]: =\n",
            "R[write to console]: =\n",
            "R[write to console]: =\n",
            "R[write to console]: =\n",
            "R[write to console]: =\n",
            "R[write to console]: =\n",
            "R[write to console]: =\n",
            "R[write to console]: =\n",
            "R[write to console]: =\n",
            "R[write to console]: =\n",
            "R[write to console]: =\n",
            "R[write to console]: =\n",
            "R[write to console]: =\n",
            "R[write to console]: =\n",
            "R[write to console]: =\n",
            "R[write to console]: =\n",
            "R[write to console]: =\n",
            "R[write to console]: =\n",
            "R[write to console]: =\n",
            "R[write to console]: =\n",
            "R[write to console]: =\n",
            "R[write to console]: =\n",
            "R[write to console]: =\n",
            "R[write to console]: =\n",
            "R[write to console]: =\n",
            "R[write to console]: =\n",
            "R[write to console]: =\n",
            "R[write to console]: =\n",
            "R[write to console]: =\n",
            "R[write to console]: =\n",
            "R[write to console]: =\n",
            "R[write to console]: =\n",
            "R[write to console]: =\n",
            "R[write to console]: =\n",
            "R[write to console]: =\n",
            "R[write to console]: =\n",
            "R[write to console]: =\n",
            "R[write to console]: =\n",
            "R[write to console]: =\n",
            "R[write to console]: =\n",
            "R[write to console]: =\n",
            "R[write to console]: \n",
            "\n",
            "R[write to console]: downloaded 210 KB\n",
            "\n",
            "\n",
            "R[write to console]: \n",
            "\n",
            "R[write to console]: \n",
            "R[write to console]: The downloaded source packages are in\n",
            "\t‘/tmp/Rtmp4HSMHP/downloaded_packages’\n",
            "R[write to console]: \n",
            "R[write to console]: \n",
            "\n",
            "R[write to console]: Installing package into ‘/usr/local/lib/R/site-library’\n",
            "(as ‘lib’ is unspecified)\n",
            "\n",
            "R[write to console]: trying URL 'https://cran.rstudio.com/src/contrib/ggplot2_3.3.5.tar.gz'\n",
            "\n",
            "R[write to console]: Content type 'application/x-gzip'\n",
            "R[write to console]:  length 3063309 bytes (2.9 MB)\n",
            "\n",
            "R[write to console]: =\n",
            "R[write to console]: =\n",
            "R[write to console]: =\n",
            "R[write to console]: =\n",
            "R[write to console]: =\n",
            "R[write to console]: =\n",
            "R[write to console]: =\n",
            "R[write to console]: =\n",
            "R[write to console]: =\n",
            "R[write to console]: =\n",
            "R[write to console]: =\n",
            "R[write to console]: =\n",
            "R[write to console]: =\n",
            "R[write to console]: =\n",
            "R[write to console]: =\n",
            "R[write to console]: =\n",
            "R[write to console]: =\n",
            "R[write to console]: =\n",
            "R[write to console]: =\n",
            "R[write to console]: =\n",
            "R[write to console]: =\n",
            "R[write to console]: =\n",
            "R[write to console]: =\n",
            "R[write to console]: =\n",
            "R[write to console]: =\n",
            "R[write to console]: =\n",
            "R[write to console]: =\n",
            "R[write to console]: =\n",
            "R[write to console]: =\n",
            "R[write to console]: =\n",
            "R[write to console]: =\n",
            "R[write to console]: =\n",
            "R[write to console]: =\n",
            "R[write to console]: =\n",
            "R[write to console]: =\n",
            "R[write to console]: =\n",
            "R[write to console]: =\n",
            "R[write to console]: =\n",
            "R[write to console]: =\n",
            "R[write to console]: =\n",
            "R[write to console]: =\n",
            "R[write to console]: =\n",
            "R[write to console]: =\n",
            "R[write to console]: =\n",
            "R[write to console]: =\n",
            "R[write to console]: =\n",
            "R[write to console]: =\n",
            "R[write to console]: =\n",
            "R[write to console]: =\n",
            "R[write to console]: =\n",
            "R[write to console]: \n",
            "\n",
            "R[write to console]: downloaded 2.9 MB\n",
            "\n",
            "\n",
            "R[write to console]: \n",
            "\n",
            "R[write to console]: \n",
            "R[write to console]: The downloaded source packages are in\n",
            "\t‘/tmp/Rtmp4HSMHP/downloaded_packages’\n",
            "R[write to console]: \n",
            "R[write to console]: \n",
            "\n"
          ],
          "name": "stderr"
        }
      ]
    },
    {
      "cell_type": "markdown",
      "metadata": {
        "id": "S0FeZzcgV092"
      },
      "source": [
        "**Installing the libraries**"
      ]
    },
    {
      "cell_type": "code",
      "metadata": {
        "colab": {
          "base_uri": "https://localhost:8080/"
        },
        "id": "VSU2fQLbWAQy",
        "outputId": "05d68beb-2255-49dd-c557-181877093d57"
      },
      "source": [
        "%%R\n",
        "library(tidyverse)\n",
        "library(lubridate)\n",
        "library(plyr)\n",
        "library(dplyr)\n",
        "library(here)\n",
        "library(skimr)\n",
        "library(janitor)\n",
        "library(readr)\n",
        "library(tidyr)\n"
      ],
      "execution_count": 6,
      "outputs": [
        {
          "output_type": "stream",
          "text": [
            "R[write to console]: ── Attaching packages ─────────────────────────────────────── tidyverse 1.3.1 ──\n",
            "\n",
            "R[write to console]: ✔ ggplot2 3.3.5     ✔ purrr   0.3.4\n",
            "✔ tibble  3.1.2     ✔ dplyr   1.0.7\n",
            "✔ tidyr   1.1.3     ✔ stringr 1.4.0\n",
            "✔ readr   1.4.0     ✔ forcats 0.5.1\n",
            "\n",
            "R[write to console]: ── Conflicts ────────────────────────────────────────── tidyverse_conflicts() ──\n",
            "✖ dplyr::filter() masks stats::filter()\n",
            "✖ dplyr::lag()    masks stats::lag()\n",
            "\n",
            "R[write to console]: \n",
            "Attaching package: ‘lubridate’\n",
            "\n",
            "\n",
            "R[write to console]: The following objects are masked from ‘package:base’:\n",
            "\n",
            "    date, intersect, setdiff, union\n",
            "\n",
            "\n",
            "R[write to console]: ------------------------------------------------------------------------------\n",
            "\n",
            "R[write to console]: You have loaded plyr after dplyr - this is likely to cause problems.\n",
            "If you need functions from both plyr and dplyr, please load plyr first, then dplyr:\n",
            "library(plyr); library(dplyr)\n",
            "\n",
            "R[write to console]: ------------------------------------------------------------------------------\n",
            "\n",
            "R[write to console]: \n",
            "Attaching package: ‘plyr’\n",
            "\n",
            "\n",
            "R[write to console]: The following objects are masked from ‘package:dplyr’:\n",
            "\n",
            "    arrange, count, desc, failwith, id, mutate, rename, summarise,\n",
            "    summarize\n",
            "\n",
            "\n",
            "R[write to console]: The following object is masked from ‘package:purrr’:\n",
            "\n",
            "    compact\n",
            "\n",
            "\n",
            "R[write to console]: here() starts at /content\n",
            "\n",
            "R[write to console]: \n",
            "Attaching package: ‘here’\n",
            "\n",
            "\n",
            "R[write to console]: The following object is masked from ‘package:plyr’:\n",
            "\n",
            "    here\n",
            "\n",
            "\n",
            "R[write to console]: \n",
            "Attaching package: ‘janitor’\n",
            "\n",
            "\n",
            "R[write to console]: The following objects are masked from ‘package:stats’:\n",
            "\n",
            "    chisq.test, fisher.test\n",
            "\n",
            "\n"
          ],
          "name": "stderr"
        }
      ]
    },
    {
      "cell_type": "markdown",
      "metadata": {
        "id": "AZ-QsJaPWt4R"
      },
      "source": [
        "**Collecting data**\n",
        "\n",
        "\n",
        "\n"
      ]
    },
    {
      "cell_type": "code",
      "metadata": {
        "id": "muPU8L1nW3li"
      },
      "source": [
        "%%R\n",
        "q4_2018 <- read.csv(\"Divvy_Trips_2018_Q4.csv\")\n",
        "q1_2019 <- read.csv(\"Divvy_Trips_2019_Q1.csv\")\n",
        "q3_2019 <- read.csv(\"Divvy_Trips_2019_Q3.csv\")\n",
        "q4_2019 <- read.csv(\"Divvy_Trips_2019_Q4.csv\")"
      ],
      "execution_count": 8,
      "outputs": []
    },
    {
      "cell_type": "markdown",
      "metadata": {
        "id": "tGJoRxXxXXeA"
      },
      "source": [
        "# Wrangling "
      ]
    },
    {
      "cell_type": "markdown",
      "metadata": {
        "id": "1at08ENoXlei"
      },
      "source": [
        "**Checking columns names for consistency before combining**"
      ]
    },
    {
      "cell_type": "code",
      "metadata": {
        "colab": {
          "base_uri": "https://localhost:8080/"
        },
        "id": "5w9absyoXqLz",
        "outputId": "6a0328a0-509e-4cf8-978e-1924053a3fd2"
      },
      "source": [
        "%%R\n",
        "colnames(q4_2018)\n",
        "colnames(q1_2019)\n",
        "colnames(q3_2019)\n",
        "colnames(q4_2019)"
      ],
      "execution_count": 9,
      "outputs": [
        {
          "output_type": "stream",
          "text": [
            " [1] \"trip_id\"           \"start_time\"        \"end_time\"         \n",
            " [4] \"bikeid\"            \"tripduration\"      \"from_station_id\"  \n",
            " [7] \"from_station_name\" \"to_station_id\"     \"to_station_name\"  \n",
            "[10] \"usertype\"          \"gender\"            \"birthyear\"        \n"
          ],
          "name": "stdout"
        }
      ]
    },
    {
      "cell_type": "markdown",
      "metadata": {
        "id": "lRK4j0crYp0_"
      },
      "source": [
        "**Checking the data for structure**"
      ]
    },
    {
      "cell_type": "code",
      "metadata": {
        "colab": {
          "base_uri": "https://localhost:8080/"
        },
        "id": "ciNWYaRAYs0m",
        "outputId": "0c9c7a00-b8c7-4a2e-8a98-0a655f862fc7"
      },
      "source": [
        "%%R\n",
        "str(q4_2018)\n",
        "str(q1_2019)\n",
        "str(q3_2019)\n",
        "str(q4_2019)\n"
      ],
      "execution_count": 10,
      "outputs": [
        {
          "output_type": "stream",
          "text": [
            "'data.frame':\t642686 obs. of  12 variables:\n",
            " $ trip_id          : int  20983530 20983531 20983532 20983533 20983534 20983535 20983536 20983537 20983538 20983539 ...\n",
            " $ start_time       : chr  \"2018-10-01 00:01:17\" \"2018-10-01 00:03:59\" \"2018-10-01 00:05:14\" \"2018-10-01 00:05:48\" ...\n",
            " $ end_time         : chr  \"2018-10-01 00:29:35\" \"2018-10-01 00:10:55\" \"2018-10-01 00:14:08\" \"2018-10-01 00:18:46\" ...\n",
            " $ bikeid           : int  4551 847 6188 6372 1927 2392 308 1187 6247 3083 ...\n",
            " $ tripduration     : chr  \"1,698.0\" \"416.0\" \"534.0\" \"778.0\" ...\n",
            " $ from_station_id  : int  85 13 59 328 93 229 148 374 268 125 ...\n",
            " $ from_station_name: chr  \"Michigan Ave & Oak St\" \"Wilton Ave & Diversey Pkwy\" \"Wabash Ave & Roosevelt Rd\" \"Ellis Ave & 58th St\" ...\n",
            " $ to_station_id    : int  166 144 197 419 159 318 11 130 289 175 ...\n",
            " $ to_station_name  : chr  \"Ashland Ave & Wrightwood Ave\" \"Larrabee St & Webster Ave\" \"Michigan Ave & Madison St\" \"Lake Park Ave & 53rd St\" ...\n",
            " $ usertype         : chr  \"Subscriber\" \"Subscriber\" \"Subscriber\" \"Subscriber\" ...\n",
            " $ gender           : chr  \"Male\" \"Female\" \"Male\" \"Female\" ...\n",
            " $ birthyear        : int  1992 1982 1986 1960 1993 1992 1997 1992 1984 NA ...\n",
            "'data.frame':\t365069 obs. of  12 variables:\n",
            " $ trip_id          : int  21742443 21742444 21742445 21742446 21742447 21742448 21742449 21742450 21742451 21742452 ...\n",
            " $ start_time       : chr  \"2019-01-01 00:04:37\" \"2019-01-01 00:08:13\" \"2019-01-01 00:13:23\" \"2019-01-01 00:13:45\" ...\n",
            " $ end_time         : chr  \"2019-01-01 00:11:07\" \"2019-01-01 00:15:34\" \"2019-01-01 00:27:12\" \"2019-01-01 00:43:28\" ...\n",
            " $ bikeid           : int  2167 4386 1524 252 1170 2437 2708 2796 6205 3939 ...\n",
            " $ tripduration     : chr  \"390.0\" \"441.0\" \"829.0\" \"1,783.0\" ...\n",
            " $ from_station_id  : int  199 44 15 123 173 98 98 211 150 268 ...\n",
            " $ from_station_name: chr  \"Wabash Ave & Grand Ave\" \"State St & Randolph St\" \"Racine Ave & 18th St\" \"California Ave & Milwaukee Ave\" ...\n",
            " $ to_station_id    : int  84 624 644 176 35 49 49 142 148 141 ...\n",
            " $ to_station_name  : chr  \"Milwaukee Ave & Grand Ave\" \"Dearborn St & Van Buren St (*)\" \"Western Ave & Fillmore St (*)\" \"Clark St & Elm St\" ...\n",
            " $ usertype         : chr  \"Subscriber\" \"Subscriber\" \"Subscriber\" \"Subscriber\" ...\n",
            " $ gender           : chr  \"Male\" \"Female\" \"Female\" \"Male\" ...\n",
            " $ birthyear        : int  1989 1990 1994 1993 1994 1983 1984 1990 1995 1996 ...\n",
            "'data.frame':\t1640718 obs. of  12 variables:\n",
            " $ trip_id          : int  23479388 23479389 23479390 23479391 23479392 23479393 23479394 23479395 23479396 23479397 ...\n",
            " $ start_time       : chr  \"2019-07-01 00:00:27\" \"2019-07-01 00:01:16\" \"2019-07-01 00:01:48\" \"2019-07-01 00:02:07\" ...\n",
            " $ end_time         : chr  \"2019-07-01 00:20:41\" \"2019-07-01 00:18:44\" \"2019-07-01 00:27:42\" \"2019-07-01 00:27:10\" ...\n",
            " $ bikeid           : int  3591 5353 6180 5540 6014 4941 3770 5442 2957 6091 ...\n",
            " $ tripduration     : chr  \"1,214.0\" \"1,048.0\" \"1,554.0\" \"1,503.0\" ...\n",
            " $ from_station_id  : int  117 381 313 313 168 300 168 313 43 43 ...\n",
            " $ from_station_name: chr  \"Wilton Ave & Belmont Ave\" \"Western Ave & Monroe St\" \"Lakeview Ave & Fullerton Pkwy\" \"Lakeview Ave & Fullerton Pkwy\" ...\n",
            " $ to_station_id    : int  497 203 144 144 62 232 62 144 195 195 ...\n",
            " $ to_station_name  : chr  \"Kimball Ave & Belmont Ave\" \"Western Ave & 21st St\" \"Larrabee St & Webster Ave\" \"Larrabee St & Webster Ave\" ...\n",
            " $ usertype         : chr  \"Subscriber\" \"Customer\" \"Customer\" \"Customer\" ...\n",
            " $ gender           : chr  \"Male\" \"\" \"\" \"\" ...\n",
            " $ birthyear        : int  1992 NA NA NA NA 1990 NA NA NA NA ...\n",
            "'data.frame':\t704054 obs. of  12 variables:\n",
            " $ trip_id          : int  25223640 25223641 25223642 25223643 25223644 25223645 25223646 25223647 25223648 25223649 ...\n",
            " $ start_time       : chr  \"2019-10-01 00:01:39\" \"2019-10-01 00:02:16\" \"2019-10-01 00:04:32\" \"2019-10-01 00:04:32\" ...\n",
            " $ end_time         : chr  \"2019-10-01 00:17:20\" \"2019-10-01 00:06:34\" \"2019-10-01 00:18:43\" \"2019-10-01 00:43:43\" ...\n",
            " $ bikeid           : int  2215 6328 3003 3275 5294 1891 1061 1274 6011 2957 ...\n",
            " $ tripduration     : chr  \"940.0\" \"258.0\" \"850.0\" \"2,350.0\" ...\n",
            " $ from_station_id  : int  20 19 84 313 210 156 84 156 156 336 ...\n",
            " $ from_station_name: chr  \"Sheffield Ave & Kingsbury St\" \"Throop (Loomis) St & Taylor St\" \"Milwaukee Ave & Grand Ave\" \"Lakeview Ave & Fullerton Pkwy\" ...\n",
            " $ to_station_id    : int  309 241 199 290 382 226 142 463 463 336 ...\n",
            " $ to_station_name  : chr  \"Leavitt St & Armitage Ave\" \"Morgan St & Polk St\" \"Wabash Ave & Grand Ave\" \"Kedzie Ave & Palmer Ct\" ...\n",
            " $ usertype         : chr  \"Subscriber\" \"Subscriber\" \"Subscriber\" \"Subscriber\" ...\n",
            " $ gender           : chr  \"Male\" \"Male\" \"Female\" \"Male\" ...\n",
            " $ birthyear        : int  1987 1998 1991 1990 1987 1994 1991 1995 1993 NA ...\n"
          ],
          "name": "stdout"
        }
      ]
    },
    {
      "cell_type": "markdown",
      "metadata": {
        "id": "1JxJHF2oZiOj"
      },
      "source": [
        "**Using the mutate() function to change the datatype of \"bikeid\" to character. This will make the aggregation work correctly.**"
      ]
    },
    {
      "cell_type": "code",
      "metadata": {
        "id": "FS_i_i61ZsqQ"
      },
      "source": [
        "%%R\n",
        "q4_2018 <-  mutate(q4_2018, bikeid = as.character(bikeid))\n",
        "q1_2019 <-  mutate(q3_2019, bikeid = as.character(bikeid))\n",
        "q3_2019 <-  mutate(q3_2019, bikeid = as.character(bikeid)) \n",
        "q4_2019 <-  mutate(q4_2019, bikeid = as.character(bikeid))\n"
      ],
      "execution_count": 11,
      "outputs": []
    },
    {
      "cell_type": "markdown",
      "metadata": {
        "id": "omJSUSvoZ0q7"
      },
      "source": [
        "**Combining all the individual quarters into one data frame**"
      ]
    },
    {
      "cell_type": "code",
      "metadata": {
        "id": "WtNvi9DsZ6Ud"
      },
      "source": [
        "%%R\n",
        "all_trips <- bind_rows(q4_2018, q1_2019, q3_2019, q4_2019)"
      ],
      "execution_count": 12,
      "outputs": []
    },
    {
      "cell_type": "markdown",
      "metadata": {
        "id": "DAWdZJUcavei"
      },
      "source": [
        "**Removing birthyear and gender fields as they wouldn't be necessary for this analysis all**"
      ]
    },
    {
      "cell_type": "code",
      "metadata": {
        "id": "zCh-ZrPIa1ac"
      },
      "source": [
        "%%R\n",
        "all_trips <- all_trips %>%  \n",
        "  select(-c( birthyear, gender))"
      ],
      "execution_count": 13,
      "outputs": []
    },
    {
      "cell_type": "markdown",
      "metadata": {
        "id": "YJNI52lEck1O"
      },
      "source": [
        "**Inspecting the combined dataframe**"
      ]
    },
    {
      "cell_type": "code",
      "metadata": {
        "colab": {
          "base_uri": "https://localhost:8080/"
        },
        "id": "d5Jza5uNc4Bm",
        "outputId": "3add4462-e81f-48df-aaad-1ddf57b2a5a3"
      },
      "source": [
        "%%R\n",
        "colnames(all_trips)  #List of column names\n",
        "nrow(all_trips)  #How many rows are in data frame?\n",
        "dim(all_trips)  #Retrieve the dimension of the data frame.\n",
        "head(all_trips,3)  #See the first 6 rows of data frame.  Also tail(qs_raw)\n",
        "str(all_trips)  #See list of columns and data types.\n",
        "summary(all_trips)  #Statistical summary of data."
      ],
      "execution_count": 14,
      "outputs": [
        {
          "output_type": "stream",
          "text": [
            "'data.frame':\t4628176 obs. of  10 variables:\n",
            " $ trip_id          : int  20983530 20983531 20983532 20983533 20983534 20983535 20983536 20983537 20983538 20983539 ...\n",
            " $ start_time       : chr  \"2018-10-01 00:01:17\" \"2018-10-01 00:03:59\" \"2018-10-01 00:05:14\" \"2018-10-01 00:05:48\" ...\n",
            " $ end_time         : chr  \"2018-10-01 00:29:35\" \"2018-10-01 00:10:55\" \"2018-10-01 00:14:08\" \"2018-10-01 00:18:46\" ...\n",
            " $ bikeid           : chr  \"4551\" \"847\" \"6188\" \"6372\" ...\n",
            " $ tripduration     : chr  \"1,698.0\" \"416.0\" \"534.0\" \"778.0\" ...\n",
            " $ from_station_id  : int  85 13 59 328 93 229 148 374 268 125 ...\n",
            " $ from_station_name: chr  \"Michigan Ave & Oak St\" \"Wilton Ave & Diversey Pkwy\" \"Wabash Ave & Roosevelt Rd\" \"Ellis Ave & 58th St\" ...\n",
            " $ to_station_id    : int  166 144 197 419 159 318 11 130 289 175 ...\n",
            " $ to_station_name  : chr  \"Ashland Ave & Wrightwood Ave\" \"Larrabee St & Webster Ave\" \"Michigan Ave & Madison St\" \"Lake Park Ave & 53rd St\" ...\n",
            " $ usertype         : chr  \"Subscriber\" \"Subscriber\" \"Subscriber\" \"Subscriber\" ...\n",
            "    trip_id          start_time          end_time            bikeid         \n",
            " Min.   :20983530   Length:4628176     Length:4628176     Length:4628176    \n",
            " 1st Qu.:23774573   Class :character   Class :character   Class :character  \n",
            " Median :24383532   Mode  :character   Mode  :character   Mode  :character  \n",
            " Mean   :24134075                                                           \n",
            " 3rd Qu.:24988640                                                           \n",
            " Max.   :25962904                                                           \n",
            " tripduration       from_station_id from_station_name  to_station_id  \n",
            " Length:4628176     Min.   :  2.0   Length:4628176     Min.   :  2.0  \n",
            " Class :character   1st Qu.: 77.0   Class :character   1st Qu.: 77.0  \n",
            " Mode  :character   Median :174.0   Mode  :character   Median :174.0  \n",
            "                    Mean   :201.8                      Mean   :202.9  \n",
            "                    3rd Qu.:289.0                      3rd Qu.:290.0  \n",
            "                    Max.   :673.0                      Max.   :673.0  \n",
            " to_station_name      usertype        \n",
            " Length:4628176     Length:4628176    \n",
            " Class :character   Class :character  \n",
            " Mode  :character   Mode  :character  \n",
            "                                      \n",
            "                                      \n",
            "                                      \n"
          ],
          "name": "stdout"
        }
      ]
    },
    {
      "cell_type": "code",
      "metadata": {
        "colab": {
          "base_uri": "https://localhost:8080/"
        },
        "id": "G3Kxzrh6di72",
        "outputId": "84d94587-683e-4e7c-de72-1a9fcf0c49f7"
      },
      "source": [
        "## Number of issues spotted:In the \"usertype\" column, the names for members (\"subscriber\") and casual riders (\"Customer\") are not consistent.\n",
        "\n",
        "## We need to create columns for the day, day of the week, and month (among other times) that give us more ways to group the data.\n",
        "\n",
        "## We do not know how long each of the rides are. We will create a \"trip_duration\" column that finds the difference between the start and end times of the ride by subtracting the \"end_time\" column from the \"start_time\"\n",
        "\n",
        "%%R\n",
        "table(all_trips$usertype) #Creating a table of the 'usertype'"
      ],
      "execution_count": 15,
      "outputs": [
        {
          "output_type": "stream",
          "text": [
            "\n",
            "  Customer Subscriber \n",
            "   1151818    3476358 \n"
          ],
          "name": "stdout"
        }
      ]
    },
    {
      "cell_type": "markdown",
      "metadata": {
        "id": "g9g9gDXneNSl"
      },
      "source": [
        "**Changing the 'Subscriber' to 'member' and 'Customer' to 'casual' for consistency and aggregation.**"
      ]
    },
    {
      "cell_type": "code",
      "metadata": {
        "colab": {
          "base_uri": "https://localhost:8080/"
        },
        "id": "BiavSn2CeWHU",
        "outputId": "c9276ef0-fbae-40ec-dcc8-227c483cd63b"
      },
      "source": [
        "%%R\n",
        "all_trips <-  all_trips %>% \n",
        "  mutate(usertype = recode(usertype,\"Subscriber\" = \"member\"\n",
        "                                   ,\"Customer\" = \"casual\"))\n",
        "table(all_trips$usertype)"
      ],
      "execution_count": 16,
      "outputs": [
        {
          "output_type": "stream",
          "text": [
            "\n",
            " casual  member \n",
            "1151818 3476358 \n"
          ],
          "name": "stdout"
        }
      ]
    },
    {
      "cell_type": "markdown",
      "metadata": {
        "id": "WDUN6kwze1SR"
      },
      "source": [
        "**Creating columns for the day, day of the week, and month that make it easier to group the data**"
      ]
    },
    {
      "cell_type": "code",
      "metadata": {
        "id": "-sR5eu94e5W2"
      },
      "source": [
        "%%R\n",
        "all_trips$date <- as.Date(all_trips$start_time) #The default format is yyyy-mm-dd\n",
        "all_trips$month <- format(as.Date(all_trips$date), \"%m\")\n",
        "all_trips$day <- format(as.Date(all_trips$date), \"%d\")\n",
        "all_trips$year <- format(as.Date(all_trips$date), \"%Y\")\n",
        "all_trips$day_of_week <- format(as.Date(all_trips$date), \"%A\")\n",
        "all_trips$ride_length <- difftime(all_trips$end_time,all_trips$start_time)\n"
      ],
      "execution_count": 17,
      "outputs": []
    },
    {
      "cell_type": "markdown",
      "metadata": {
        "id": "afh-1qh-oj8R"
      },
      "source": [
        "**In order to make sure that \"ride_length\" can be analyzed, We will check to make sure the column is numeric. If the variable isn't numeric, We will coerce the variable to numeric.**"
      ]
    },
    {
      "cell_type": "code",
      "metadata": {
        "colab": {
          "base_uri": "https://localhost:8080/"
        },
        "id": "I5_Z2JlsopH-",
        "outputId": "3f5abaef-a385-4873-de92-9b4cfd777979"
      },
      "source": [
        "%%R\n",
        "str(all_trips)\n",
        "if(!is.numeric(all_trips$ride_length))\n",
        "  all_trips$ride_length <- as.numeric(as.character(all_trips$ride_length))\n",
        "is.numeric(all_trips$ride_length)"
      ],
      "execution_count": 18,
      "outputs": [
        {
          "output_type": "stream",
          "text": [
            "'data.frame':\t4628176 obs. of  16 variables:\n",
            " $ trip_id          : int  20983530 20983531 20983532 20983533 20983534 20983535 20983536 20983537 20983538 20983539 ...\n",
            " $ start_time       : chr  \"2018-10-01 00:01:17\" \"2018-10-01 00:03:59\" \"2018-10-01 00:05:14\" \"2018-10-01 00:05:48\" ...\n",
            " $ end_time         : chr  \"2018-10-01 00:29:35\" \"2018-10-01 00:10:55\" \"2018-10-01 00:14:08\" \"2018-10-01 00:18:46\" ...\n",
            " $ bikeid           : chr  \"4551\" \"847\" \"6188\" \"6372\" ...\n",
            " $ tripduration     : chr  \"1,698.0\" \"416.0\" \"534.0\" \"778.0\" ...\n",
            " $ from_station_id  : int  85 13 59 328 93 229 148 374 268 125 ...\n",
            " $ from_station_name: chr  \"Michigan Ave & Oak St\" \"Wilton Ave & Diversey Pkwy\" \"Wabash Ave & Roosevelt Rd\" \"Ellis Ave & 58th St\" ...\n",
            " $ to_station_id    : int  166 144 197 419 159 318 11 130 289 175 ...\n",
            " $ to_station_name  : chr  \"Ashland Ave & Wrightwood Ave\" \"Larrabee St & Webster Ave\" \"Michigan Ave & Madison St\" \"Lake Park Ave & 53rd St\" ...\n",
            " $ usertype         : chr  \"member\" \"member\" \"member\" \"member\" ...\n",
            " $ date             : Date, format: \"2018-10-01\" \"2018-10-01\" ...\n",
            " $ month            : chr  \"10\" \"10\" \"10\" \"10\" ...\n",
            " $ day              : chr  \"01\" \"01\" \"01\" \"01\" ...\n",
            " $ year             : chr  \"2018\" \"2018\" \"2018\" \"2018\" ...\n",
            " $ day_of_week      : chr  \"Monday\" \"Monday\" \"Monday\" \"Monday\" ...\n",
            " $ ride_length      : 'difftime' num  28.3 6.93333333333333 8.9 12.9666666666667 ...\n",
            "  ..- attr(*, \"units\")= chr \"mins\"\n",
            "[1] TRUE\n"
          ],
          "name": "stdout"
        }
      ]
    },
    {
      "cell_type": "code",
      "metadata": {
        "id": "7rwY9k66qL7g"
      },
      "source": [
        "# Remove \"bad\" data\n",
        "## The dataframe includes a few hundred entries when bikes were taken out of docks and checked for quality by Divvy or ride_length was negative or ride_length bigger than 7 days ( all_trips$ride_length> 7*24*60  )\n",
        "## We will create a new version of the datadframe (v2) since data is being removed\n",
        "## Following method has many NA rows. NA rows and if 'from_station_name is NA that row is excludeD\n",
        "\n",
        "%%R\n",
        "removed_data <-  all_trips %>% \n",
        "  filter( all_trips$from_station_name == \"HQ QR\" | all_trips$ride_length < 0)\n",
        "\n",
        "all_trips_v2 <- all_trips %>% \n",
        "  filter(( all_trips$from_station_name != \"HQ QR\" | is.na(all_trips$from_station_name)) & all_trips$ride_length >= 0)"
      ],
      "execution_count": 19,
      "outputs": []
    },
    {
      "cell_type": "markdown",
      "metadata": {
        "id": "KZg5jBFprGGJ"
      },
      "source": [
        "# Analysis"
      ]
    },
    {
      "cell_type": "markdown",
      "metadata": {
        "id": "rQ8RhxxKrfHM"
      },
      "source": [
        "**Conducting descriptive analysis to find the dataframe's summary statistics**"
      ]
    },
    {
      "cell_type": "code",
      "metadata": {
        "colab": {
          "base_uri": "https://localhost:8080/"
        },
        "id": "6pEXPNLDrMem",
        "outputId": "60251c0c-99a2-44cd-ffc8-7a6cb2f3a1ca"
      },
      "source": [
        "%%R\n",
        "summary(all_trips_v2$ride_length)"
      ],
      "execution_count": 20,
      "outputs": [
        {
          "output_type": "stream",
          "text": [
            "     Min.   1st Qu.    Median      Mean   3rd Qu.      Max. \n",
            "     1.02      7.03     12.15     26.01     21.95 150943.90 \n"
          ],
          "name": "stdout"
        }
      ]
    },
    {
      "cell_type": "markdown",
      "metadata": {
        "id": "0RrY6Y4lsqdK"
      },
      "source": [
        "**Next, we will compare members and casual users. Notice that on the average the metrics for causal riders outweighs those of member riders.**"
      ]
    },
    {
      "cell_type": "code",
      "metadata": {
        "colab": {
          "base_uri": "https://localhost:8080/"
        },
        "id": "4AaV5Vq9svuD",
        "outputId": "276b9dd8-ba95-4c43-80de-306ee6b014d4"
      },
      "source": [
        "%%R\n",
        "  aggregate(all_trips_v2$ride_length ~ all_trips_v2$usertype, FUN = mean)\n",
        "  aggregate(all_trips_v2$ride_length ~ all_trips_v2$usertype, FUN = median)\n",
        "  aggregate(all_trips_v2$ride_length ~ all_trips_v2$usertype, FUN = max)\n",
        "  aggregate(all_trips_v2$ride_length ~ all_trips_v2$usertype, FUN = min)\n",
        "  aggregate(all_trips_v2$ride_length ~ all_trips_v2$usertype + all_trips_v2$day_of_week, FUN = mean)"
      ],
      "execution_count": 21,
      "outputs": [
        {
          "output_type": "stream",
          "text": [
            "   all_trips_v2$usertype all_trips_v2$day_of_week all_trips_v2$ride_length\n",
            "1                 casual                   Friday                 65.22378\n",
            "2                 member                   Friday                 14.13487\n",
            "3                 casual                   Monday                 59.24714\n",
            "4                 member                   Monday                 14.67625\n",
            "5                 casual                 Saturday                 55.44826\n",
            "6                 member                 Saturday                 16.74257\n",
            "7                 casual                   Sunday                 59.31466\n",
            "8                 member                   Sunday                 15.37849\n",
            "9                 casual                 Thursday                 60.95794\n",
            "10                member                 Thursday                 14.40957\n",
            "11                casual                  Tuesday                 61.12511\n",
            "12                member                  Tuesday                 14.48355\n",
            "13                casual                Wednesday                 63.69512\n",
            "14                member                Wednesday                 14.38807\n"
          ],
          "name": "stdout"
        }
      ]
    },
    {
      "cell_type": "markdown",
      "metadata": {
        "id": "MO2Z0WM-tA4f"
      },
      "source": [
        "**Ordering the the day of the week**"
      ]
    },
    {
      "cell_type": "code",
      "metadata": {
        "colab": {
          "base_uri": "https://localhost:8080/"
        },
        "id": "m0_mVQqCtEs5",
        "outputId": "962e01a1-ea63-4090-f2a3-8b1b0b51d60e"
      },
      "source": [
        "%%R\n",
        "all_trips_v2$day_of_week <- ordered(all_trips_v2$day_of_week, levels= c(\"Sunday\", \"Monday\", \"Tuesday\", \"Wednesday\", \"Thursday\", \"Friday\", \"Saturday\"))\n",
        "\n",
        "#Rerun the previous aggregate() call. Days of week are now ordered properly. \n",
        "\n",
        "aggregate(all_trips_v2$ride_length ~ all_trips_v2$usertype + all_trips_v2$day_of_week, FUN = mean)\n",
        "  "
      ],
      "execution_count": 22,
      "outputs": [
        {
          "output_type": "stream",
          "text": [
            "   all_trips_v2$usertype all_trips_v2$day_of_week all_trips_v2$ride_length\n",
            "1                 casual                   Sunday                 59.31466\n",
            "2                 member                   Sunday                 15.37849\n",
            "3                 casual                   Monday                 59.24714\n",
            "4                 member                   Monday                 14.67625\n",
            "5                 casual                  Tuesday                 61.12511\n",
            "6                 member                  Tuesday                 14.48355\n",
            "7                 casual                Wednesday                 63.69512\n",
            "8                 member                Wednesday                 14.38807\n",
            "9                 casual                 Thursday                 60.95794\n",
            "10                member                 Thursday                 14.40957\n",
            "11                casual                   Friday                 65.22378\n",
            "12                member                   Friday                 14.13487\n",
            "13                casual                 Saturday                 55.44826\n",
            "14                member                 Saturday                 16.74257\n"
          ],
          "name": "stdout"
        }
      ]
    },
    {
      "cell_type": "markdown",
      "metadata": {
        "id": "0zclhfoBt73c"
      },
      "source": [
        "# Visualization"
      ]
    },
    {
      "cell_type": "markdown",
      "metadata": {
        "id": "L6EAxIp9uGlB"
      },
      "source": [
        "**Rider Category**"
      ]
    },
    {
      "cell_type": "code",
      "metadata": {
        "id": "9PKxdI8suBkN",
        "colab": {
          "base_uri": "https://localhost:8080/",
          "height": 497
        },
        "outputId": "ca276e85-4108-466c-988e-750ad6bdadf3"
      },
      "source": [
        " %%R\n",
        " ggplot(all_trips_v2,\n",
        "        aes(x = usertype)) +\n",
        "   geom_bar(fill = \"cornflowerblue\",\n",
        "            color = \"black\") +\n",
        "   scale_y_continuous(labels = scales::comma) +\n",
        "   labs(x = \"Rider category\", title  = \"Total Ride\")\n",
        " "
      ],
      "execution_count": null,
      "outputs": [
        {
          "output_type": "display_data",
          "data": {
            "image/png": "[encoded data removed]"
          },
          "metadata": {
            "tags": []
          }
        }
      ]
    },
    {
      "cell_type": "markdown",
      "metadata": {
        "id": "luX5SpNwvLkx"
      },
      "source": [
        "**Rider category based on dates**"
      ]
    },
    {
      "cell_type": "code",
      "metadata": {
        "colab": {
          "base_uri": "https://localhost:8080/",
          "height": 497
        },
        "id": "XFOSBnTvvRe0",
        "outputId": "a869d983-c4df-4ccb-87b6-e0ba47dee998"
      },
      "source": [
        "%%R\n",
        "ggplot(all_trips_v2,\n",
        "        aes(x = day, \n",
        "            fill = usertype)) + \n",
        "   geom_bar(position = position_dodge(preserve = \"single\")) +\n",
        "   scale_y_continuous(labels = scales::comma) +\n",
        "   labs(x = \"Date\",y = \"Ride Count\", title  = \"Rider category based on dates.\")\n",
        " "
      ],
      "execution_count": null,
      "outputs": [
        {
          "output_type": "display_data",
          "data": {
            "image/png": "[encoded data removed]"
          },
          "metadata": {
            "tags": []
          }
        }
      ]
    },
    {
      "cell_type": "code",
      "metadata": {
        "id": "6YTBK0YSv9eM"
      },
      "source": [
        "# Dates don't have any impact on the riding pattern"
      ],
      "execution_count": null,
      "outputs": []
    },
    {
      "cell_type": "markdown",
      "metadata": {
        "id": "Xosf9Gl-wAEp"
      },
      "source": [
        "**Proportion of rider category based on dates**"
      ]
    },
    {
      "cell_type": "code",
      "metadata": {
        "colab": {
          "base_uri": "https://localhost:8080/",
          "height": 497
        },
        "id": "vNtmD137wLEO",
        "outputId": "487bfeba-8e90-4456-e292-f89648c9a18c"
      },
      "source": [
        " %%R\n",
        " ggplot(all_trips_v2,\n",
        "        aes(x = day, \n",
        "            fill = usertype)) + \n",
        "   geom_bar(position = \"fill\") +\n",
        "   scale_y_continuous(labels = scales::percent) +\n",
        "   labs(x = \"Date\",y = \"Proportion\", title  = \"Rider category based on dates.\")"
      ],
      "execution_count": null,
      "outputs": [
        {
          "output_type": "display_data",
          "data": {
            "image/png": "[encoded data removed]"
          },
          "metadata": {
            "tags": []
          }
        }
      ]
    },
    {
      "cell_type": "markdown",
      "metadata": {
        "id": "0ZZGtBilzTn9"
      },
      "source": [
        "**Daily rider analysis**"
      ]
    },
    {
      "cell_type": "code",
      "metadata": {
        "colab": {
          "base_uri": "https://localhost:8080/",
          "height": 497
        },
        "id": "6dP88b6yzXly",
        "outputId": "3aa30193-264b-4cbc-cbce-a71a506a8057"
      },
      "source": [
        "%%R\n",
        "ggplot(all_trips_v2,\n",
        "        aes(x = day_of_week, \n",
        "            fill = usertype)) + \n",
        "   geom_bar(position = \"fill\") +\n",
        "   scale_y_continuous(labels = scales::percent) +\n",
        "   labs(x = \"Day\",y = \"Percentage\", title  = \"Daily Rider analysis\")\n",
        " "
      ],
      "execution_count": null,
      "outputs": [
        {
          "output_type": "display_data",
          "data": {
            "image/png": "[encoded data removed]"
          },
          "metadata": {
            "tags": []
          }
        }
      ]
    },
    {
      "cell_type": "code",
      "metadata": {
        "id": "-9HTIRtszlBp"
      },
      "source": [
        "# It seems more member riders ride on Tuesday and Wednesdays. While causal riders ride more on weekends."
      ],
      "execution_count": null,
      "outputs": []
    },
    {
      "cell_type": "markdown",
      "metadata": {
        "id": "lZY6YUI5znJi"
      },
      "source": [
        "**Monthly Rider analysis**"
      ]
    },
    {
      "cell_type": "code",
      "metadata": {
        "colab": {
          "base_uri": "https://localhost:8080/",
          "height": 497
        },
        "id": "k5El9MSNzwgy",
        "outputId": "ca1929d9-c3d9-41a8-dca3-f55fa83f812c"
      },
      "source": [
        " %%R\n",
        " ggplot(all_trips_v2,\n",
        "        aes(x = month,\n",
        "            fill = usertype)) +\n",
        "   geom_bar(position = position_dodge(preserve = \"single\")) +\n",
        "   scale_y_continuous(labels = scales::comma) +\n",
        "   labs(x = \"Month\",y = \"Count\", title  = \"Monthly Rider analysis\")\n",
        " "
      ],
      "execution_count": null,
      "outputs": [
        {
          "output_type": "display_data",
          "data": {
            "image/png": "[encoded data removed]"
          },
          "metadata": {
            "tags": []
          }
        }
      ]
    },
    {
      "cell_type": "code",
      "metadata": {
        "id": "B7wL-vfL0D4L"
      },
      "source": [
        "# Member riders contribute more to the overall monthly rides for at least half the year"
      ],
      "execution_count": null,
      "outputs": []
    },
    {
      "cell_type": "markdown",
      "metadata": {
        "id": "UwIEFcFu03NT"
      },
      "source": [
        "**Weekdays and weekends Data Analysis**"
      ]
    },
    {
      "cell_type": "code",
      "metadata": {
        "colab": {
          "base_uri": "https://localhost:8080/"
        },
        "id": "-uzxxf8T06I6",
        "outputId": "a968e37a-5731-4f39-c4d5-340b51877fa1"
      },
      "source": [
        "%%R\n",
        "weekday_data <- subset(all_trips_v2,day_of_week == \"Monday\" | day_of_week == \"Tuesday\" |day_of_week == \"Wednesday\" | day_of_week == \"Thursday\"| day_of_week == \"Friday\")\n",
        "weekend_data <- subset(all_trips_v2, day_of_week == \"Saturday\" |day_of_week == \"Sunday\")\n",
        "\n",
        " ## Weekday Data Analysis\n",
        " weekday_casual <- weekday_data %>%\n",
        "   group_by(usertype) %>%\n",
        "   dplyr::summarise(n = n()) %>%\n",
        "   mutate(pct = n/sum(n), lbl = scales::percent(pct))\n",
        " \n",
        " weekday_casual\n",
        " \n",
        " # Member riders constitute 81% of the weekday rides\n",
        "\n",
        "# Weekend data Analysis\n",
        " \n",
        " weekend_casual <- weekend_data %>%\n",
        "   group_by(usertype) %>%\n",
        "   dplyr::summarise(n = n()) %>%\n",
        "   mutate(pct = n/sum(n), lbl = scales::percent(pct))\n",
        " \n",
        " weekend_casual\n",
        "\n",
        " # Member riders constitute 57% of the weekend riders and casual riders 43%, a significant increase in casual riders during the weekend compared to weekday.\n",
        " "
      ],
      "execution_count": null,
      "outputs": [
        {
          "output_type": "stream",
          "text": [
            "# A tibble: 2 x 4\n",
            "  usertype      n   pct lbl  \n",
            "  <chr>     <int> <dbl> <chr>\n",
            "1 casual   474348 0.426 43%  \n",
            "2 member   638340 0.574 57%  \n"
          ],
          "name": "stdout"
        }
      ]
    },
    {
      "cell_type": "markdown",
      "metadata": {
        "id": "EdvWlXEm2O-t"
      },
      "source": [
        "**Top station preference for Members and Casual riders**"
      ]
    },
    {
      "cell_type": "code",
      "metadata": {
        "colab": {
          "base_uri": "https://localhost:8080/",
          "height": 497
        },
        "id": "MgqpZp0y2UrP",
        "outputId": "7cc2ff84-1f6a-4f67-e03f-9964ddf3393c"
      },
      "source": [
        "%%R\n",
        " top_stn <- as.data.frame(sort(table(all_trips_v2$from_station_name), decreasing=TRUE) [2:11])\n",
        " \n",
        " ggplot(top_stn,\n",
        "        aes(x = Var1, \n",
        "            y = Freq)) +\n",
        "   geom_bar(stat=\"identity\") +\n",
        "   coord_flip() +\n",
        "   labs(x = \"Station\",y = \"Count\", title  = \"Top station as starting point\")\n",
        " \n",
        " ##The top preferred station for casual and member riders is Canal st & Adams St"
      ],
      "execution_count": 23,
      "outputs": [
        {
          "output_type": "display_data",
          "data": {
            "image/png": "[encoded data removed]"
          },
          "metadata": {
            "tags": []
          }
        }
      ]
    },
    {
      "cell_type": "markdown",
      "metadata": {
        "id": "ixHTHI-22hsn"
      },
      "source": [
        "**Average ride time**"
      ]
    },
    {
      "cell_type": "code",
      "metadata": {
        "colab": {
          "base_uri": "https://localhost:8080/",
          "height": 497
        },
        "id": "SI9mJ0dS2mWi",
        "outputId": "48e97133-d537-4c5f-e38e-b95e333910b4"
      },
      "source": [
        "%%R\n",
        "plotdata <- all_trips_v2 %>%\n",
        "   group_by(usertype) %>%\n",
        "   dplyr::summarise(n = n(),\n",
        "                    mean = mean(ride_length),\n",
        "                    sd = sd(ride_length),\n",
        "                    se = sd / sqrt(n))\n",
        "\n",
        "ggplot(plotdata,\n",
        "       aes(x=usertype,\n",
        "           y = mean / 60)) +\n",
        "   geom_bar(stat=\"identity\",\n",
        "            fill = \"cornflowerblue\",\n",
        "            color = \"black\") +\n",
        "   labs(x = \"Rider Type\", y = \"Time (min)\", title  = \"Mean ride time\")\n",
        "\n",
        " # Casual riders have a longer ride time than member riders on the average "
      ],
      "execution_count": null,
      "outputs": [
        {
          "output_type": "display_data",
          "data": {
            "image/png": "[encoded data removed]"
          },
          "metadata": {
            "tags": []
          }
        }
      ]
    },
    {
      "cell_type": "markdown",
      "metadata": {
        "id": "hIBi-u5w2-Y-"
      },
      "source": [
        "**Average ride time per month**"
      ]
    },
    {
      "cell_type": "code",
      "metadata": {
        "colab": {
          "base_uri": "https://localhost:8080/",
          "height": 497
        },
        "id": "2GjnrD4G2-MF",
        "outputId": "e718357b-d22c-4215-ba05-23a2cce4e945"
      },
      "source": [
        "%%R\n",
        "ggplot(all_trips_v2) +\n",
        "   geom_col(mapping=aes(x=month, y=ride_length, fill=usertype)) +\n",
        "   scale_y_continuous(labels = scales::comma)\n"
      ],
      "execution_count": null,
      "outputs": [
        {
          "output_type": "display_data",
          "data": {
            "image/png": "[encoded data removed]"
          },
          "metadata": {
            "tags": []
          }
        }
      ]
    },
    {
      "cell_type": "code",
      "metadata": {
        "id": "F7wzQL-t48X3"
      },
      "source": [
        " # Casual riders ride for longer lengths monthly on the average"
      ],
      "execution_count": null,
      "outputs": []
    },
    {
      "cell_type": "markdown",
      "metadata": {
        "id": "gVsU6nG44_qx"
      },
      "source": [
        "**Percentage of Ride by Rider type**"
      ]
    },
    {
      "cell_type": "code",
      "metadata": {
        "colab": {
          "base_uri": "https://localhost:8080/",
          "height": 514
        },
        "id": "usS_waUR5FXj",
        "outputId": "8f48537b-2ee5-4397-c6e3-c282f31160b2"
      },
      "source": [
        "%%R\n",
        "plotdata <- all_trips_v2 %>%\n",
        "   group_by(day_of_week, usertype) %>%\n",
        "   dplyr::summarise(n = n()) %>%\n",
        "   mutate(pct = n/sum(n), lbl = scales::percent(pct))\n",
        "\n",
        "ggplot(plotdata, \n",
        "       aes(x = factor(day_of_week,\n",
        "                      levels = c(\"Sunday\", \"Monday\", \"Tuesday\", \"Wednesday\",\n",
        "                                 \"Thursday\", \"Friday\", \"Saturday\")),\n",
        "           y = pct,\n",
        "           fill = usertype)) + \n",
        "   geom_bar(stat = \"identity\",\n",
        "            position = \"fill\") +\n",
        "   geom_text(aes(label = lbl), \n",
        "             size = 3, \n",
        "             position = position_stack(vjust = 0.5)) +\n",
        "   scale_fill_brewer(palette = \"Set2\") +\n",
        "   labs(y = \"Percent\", \n",
        "        fill = \"Rider Type\",\n",
        "        x = \"Day\",\n",
        "        title = \"Percentage of Ride by Rider type\") +\n",
        "   theme_minimal()"
      ],
      "execution_count": null,
      "outputs": [
        {
          "output_type": "stream",
          "text": [
            "`summarise()` has grouped output by 'day_of_week'. You can override using the `.groups` argument.\n"
          ],
          "name": "stdout"
        },
        {
          "output_type": "display_data",
          "data": {
            "image/png": "[encoded data removed]"
          },
          "metadata": {
            "tags": []
          }
        }
      ]
    },
    {
      "cell_type": "markdown",
      "metadata": {
        "id": "plNrricD6WNz"
      },
      "source": [
        "**Proportion of Trip duration based on Rider type**"
      ]
    },
    {
      "cell_type": "code",
      "metadata": {
        "colab": {
          "base_uri": "https://localhost:8080/",
          "height": 514
        },
        "id": "iId1N5lq77oi",
        "outputId": "434405e1-e935-40b7-f881-cb71546295eb"
      },
      "source": [
        "%%R\n",
        "plotdata <- all_trips_v2 %>%\n",
        "   group_by(day_of_week, usertype) %>%\n",
        "   dplyr::summarise(trip_time = sum(ride_length)) %>%\n",
        "   mutate(pct = as.numeric(trip_time)/sum(as.numeric(trip_time)), lbl = scales::percent(pct))\n",
        "\n",
        "ggplot(plotdata, \n",
        "       aes(x = factor(day_of_week,\n",
        "                      levels = c(\"Sunday\", \"Monday\", \"Tuesday\", \"Wednesday\",\n",
        "                                 \"Thursday\", \"Friday\", \"Saturday\")),\n",
        "           y = pct,\n",
        "           fill = usertype)) + \n",
        "   geom_bar(stat = \"identity\",\n",
        "            position = \"fill\") +\n",
        "   scale_y_continuous(breaks = seq(0, 1, .2),\n",
        "   ) +\n",
        "   geom_text(aes(label = lbl), \n",
        "             size = 3, \n",
        "             position = position_stack(vjust = 0.5)) +\n",
        "   scale_fill_brewer(palette = \"Set1\") +\n",
        "   labs(y = \"Percent\", \n",
        "        fill = \"Rider type\",\n",
        "        x = \"Day\",\n",
        "        title = \"Proportion of Trip duration based on Rider type\") +\n",
        "   theme_minimal()"
      ],
      "execution_count": null,
      "outputs": [
        {
          "output_type": "stream",
          "text": [
            "`summarise()` has grouped output by 'day_of_week'. You can override using the `.groups` argument.\n"
          ],
          "name": "stdout"
        },
        {
          "output_type": "display_data",
          "data": {
            "image/png": "[encoded data removed]"
          },
          "metadata": {
            "tags": []
          }
        }
      ]
    },
    {
      "cell_type": "code",
      "metadata": {
        "id": "28toydR18YjR"
      },
      "source": [
        "# The last 2 visualizations denote that although Member riders are higher the proportion of the trip duration seems to be pretty high for casual members\n",
        " "
      ],
      "execution_count": null,
      "outputs": []
    },
    {
      "cell_type": "markdown",
      "metadata": {
        "id": "4M6gbo_f8g2u"
      },
      "source": [
        "#  Key Takeways\n"
      ]
    },
    {
      "cell_type": "markdown",
      "metadata": {
        "id": "tOxoHjLr8kCr"
      },
      "source": [
        "\n",
        "\n",
        "*   Dates don't have any impact on the riding pattern\n",
        "*   It seems more member riders ride on Tuesday and Wednesdays. While causal riders ride more on weekends\n",
        "\n",
        "\n",
        "* The months of July, August and September record the highest number of rides, with August seeing the higest rides.\n",
        "\n",
        "*    Member riders contribute more to the overall monthly rides for at least half the year\n",
        "\n",
        "*   Member riders constitute 81% of the weekday rides, while casual riders constitute a total of 43% of the weekend rides, a significant increase in casual riders during the weekend compared to weekday\n",
        "\n",
        "\n",
        "\n",
        "*   The top preferred station for casual and member riders is Canal st & Adams St\n",
        "\n",
        "*   Casual riders have a longer ride time than member riders on the average even though the proportion of member riders is higher. \n",
        "\n",
        "# Recommendations\n",
        "\n",
        "As per analysis July, August and September record the highest number of rides, with August seeing the highest rides. We will recommend that stakeholders run campaigns starting from July until September. Starting with a giveaway promotion at Canal st 7 Adams st station on a Friday, as this is most preffered station by casual riders and one of the days with the highest number of Casual riders.\n",
        "\n",
        "Also, based on our analysis Casual riders constitute the longest duration of rides, digital billboards should be installed along riding routes between stations showing the benefits available to member riders.\n",
        "\n",
        "\n",
        "\n",
        "\n",
        "\n",
        "\n",
        "\n"
      ]
    }
  ]
}